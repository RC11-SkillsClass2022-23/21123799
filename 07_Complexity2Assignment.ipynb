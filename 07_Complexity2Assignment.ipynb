{
 "cells": [
  {
   "cell_type": "markdown",
   "id": "f052de27",
   "metadata": {},
   "source": [
    "# Exercise One\n",
    "\n",
    "## 1.1"
   ]
  },
  {
   "cell_type": "code",
   "execution_count": 2,
   "id": "c4cfee0d",
   "metadata": {},
   "outputs": [],
   "source": [
    "import numpy as np"
   ]
  },
  {
   "cell_type": "code",
   "execution_count": 10,
   "id": "ba47caee",
   "metadata": {},
   "outputs": [],
   "source": [
    "def SMM(A,B):\n",
    "    n = len(A)\n",
    "    c = np.zeros((n,n))\n",
    "    for i in range(n):\n",
    "        for j in range(n):\n",
    "            for k in range(n):\n",
    "                c[i][j] += A[i][k] * B[k][j]\n",
    "    return c"
   ]
  },
  {
   "cell_type": "code",
   "execution_count": 11,
   "id": "eac07e9e",
   "metadata": {},
   "outputs": [
    {
     "data": {
      "text/plain": [
       "array([[ 860.,  592.],\n",
       "       [1258.,  776.]])"
      ]
     },
     "execution_count": 11,
     "metadata": {},
     "output_type": "execute_result"
    }
   ],
   "source": [
    "A = [[6,8],[9,10]]\n",
    "B = [[122,24],[16,56]]\n",
    "SMM(A,B)"
   ]
  },
  {
   "cell_type": "code",
   "execution_count": 12,
   "id": "cac1955d",
   "metadata": {},
   "outputs": [
    {
     "data": {
      "text/plain": [
       "array([[ 860,  592],\n",
       "       [1258,  776]])"
      ]
     },
     "execution_count": 12,
     "metadata": {},
     "output_type": "execute_result"
    }
   ],
   "source": [
    "np.matmul(A,B)"
   ]
  },
  {
   "cell_type": "markdown",
   "id": "dfdbb854",
   "metadata": {},
   "source": [
    "## 1.2"
   ]
  },
  {
   "cell_type": "markdown",
   "id": "e454a299",
   "metadata": {},
   "source": [
    "the asymptotic time complexity of my implementation is O(n^3), because there are three for-loops. First two for-loops does n iterations each, and the third for-loops iterate n times and each iteration does constant-time operations, so the total time is n^3."
   ]
  },
  {
   "cell_type": "markdown",
   "id": "d2a180f4",
   "metadata": {},
   "source": [
    "# Exercise Two\n",
    "\n",
    "## 2.1"
   ]
  },
  {
   "cell_type": "markdown",
   "id": "1e267b8b",
   "metadata": {},
   "source": [
    "Recursiveness: It is a recursive algorithm for matrix multiplication. It recursively splits the input matrix into smaller matrices until a base case is reached, then combines the results to produce the final matrix product.\n",
    "\n",
    "Base case: The base case for recursion occurs when the size of the matrix has been reduced to 1x1.\n",
    "\n",
    "Divide: In the first step, the algorithm divides the input matrix into four smaller submatrices, each of size n/2. This creates four subproblems that can be solved recursively.\n",
    "\n",
    "Conquer: In the next step, the algorithm uses recursively to calculate the product of the four submatrices. This is done by calling the algorithm on each sub-matrix until the base case is reached. The base case occurs when the matrices are of size 1x1, where the algorithm computes the product of the individual elements in each matrix."
   ]
  },
  {
   "cell_type": "markdown",
   "id": "6d2b356f",
   "metadata": {},
   "source": [
    "## 2.2"
   ]
  },
  {
   "cell_type": "markdown",
   "id": "16d3362f",
   "metadata": {},
   "source": [
    "Base case: The base case for recursion occurs when the size of the matrix has been reduced to 1x1, so this step takes constant time, the complexity of the base case is O(1).\n",
    "\n",
    "Divide step: the algorithm divides the input matrix into four smaller submatrices, each of size n/2, so this step also takes constant time, the complexity of divide step is O(1).\n",
    "\n",
    "Conquer step: this step recursively computes the product of the submatrices until it reaches the base case. this makes 8 recursive calls, so the complexity of the recursive conquer step is 8·T(n/2).\n",
    "\n",
    "Combine step: this step needs to add and subtract matrices of size n/2 * n/2, so the complexity of the combine step is O(n^2).\n",
    "\n",
    "Total time: T(n) = O(1), if n = 1\n",
    "            T(n) = 8T(n/2) + O(n²), if n>1"
   ]
  },
  {
   "cell_type": "markdown",
   "id": "ae366cd1",
   "metadata": {},
   "source": [
    "## 2.3"
   ]
  },
  {
   "cell_type": "code",
   "execution_count": null,
   "id": "a3d30f67",
   "metadata": {},
   "outputs": [],
   "source": [
    "def SMMRec(A,B):\n",
    "    n = len(A)\n",
    "    \n",
    "    if n == 1:\n",
    "        C = np.zeros((1,1))\n",
    "        C[0,0] = A[0,0] * B[0,0]\n",
    "        \n",
    "    else:\n",
    "        A11 = A[:n//2, :n//2]\n",
    "        A12 = A[:n//2, n//2:]\n",
    "        A21 = A[n//2:, :n//2]\n",
    "        A22 = A[n//2, n//2:]\n",
    "        B11 = B[:n//2, :n//2]\n",
    "        B12 = B[:n//2, n//2:]\n",
    "        B21 = B[n//2:, :n//2]\n",
    "        B22 = B[n//2, n//2:]\n",
    "        C11 = SMMRec(A11, B11) + SMMRec(A12, B21)\n",
    "        C12 = SMMRec(A11, B12) + SMMRec(A12, B22)\n",
    "        C21 = SMMRec(A21, B11) + SMMRec(A22, B21)\n",
    "        C22 = SMMRec(A21, B12) + SMMRec(A22, B22)\n",
    "        C = np.zeros((2*n, 2*n))\n",
    "        C[:n, :n] = C11\n",
    "        C[:n, n:] = C12\n",
    "        C[n:, :n] = C21\n",
    "        C[n:, n:] = C22\n",
    "        \n",
    "    return C"
   ]
  },
  {
   "cell_type": "markdown",
   "id": "63acbcfe",
   "metadata": {},
   "source": [
    "# Exercise Three"
   ]
  },
  {
   "cell_type": "markdown",
   "id": "85a5618c",
   "metadata": {},
   "source": [
    "The complexity of dividing the matrices into quarters is O(1). \n",
    "Recursively computes the product of the submatrices until it reaches the base case. this makes 7 recursive calls, so the complexity of this step is 7·T(n/2).\n",
    "combining the matrices needs 18 matrix additions/subtractions, which will cost O(n^2).\n",
    "\n",
    "The strassen reduces the recursive multiplications from 8 to 7 times, comes at the cost of 10 extra additions/subtractions, because the additions/subtractions is faster than multiplications, the strassen algorithm is faster than the algorithm from exercise 2."
   ]
  }
 ],
 "metadata": {
  "kernelspec": {
   "display_name": "py38",
   "language": "python",
   "name": "py38"
  },
  "language_info": {
   "codemirror_mode": {
    "name": "ipython",
    "version": 3
   },
   "file_extension": ".py",
   "mimetype": "text/x-python",
   "name": "python",
   "nbconvert_exporter": "python",
   "pygments_lexer": "ipython3",
   "version": "3.9.12"
  }
 },
 "nbformat": 4,
 "nbformat_minor": 5
}
